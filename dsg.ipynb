{
 "cells": [
  {
   "cell_type": "markdown",
   "id": "dbcdf231",
   "metadata": {},
   "source": [
    "## Importing libraries"
   ]
  },
  {
   "cell_type": "code",
   "execution_count": 192,
   "id": "79811a5e",
   "metadata": {},
   "outputs": [],
   "source": [
    "import numpy as np # linear algebra\n",
    "import pandas as pd # data processing, CSV file I/O (e.g. pd.read_csv)\n",
    "%matplotlib inline\n",
    "from sklearn import preprocessing\n",
    "from sklearn.preprocessing import StandardScaler\n",
    "from sklearn.model_selection import train_test_split\n",
    "import matplotlib as mpl\n",
    "import matplotlib.pyplot as plt\n",
    "from datetime import datetime\n",
    "import time\n",
    "from sklearn import linear_model\n",
    "from sklearn.linear_model import LinearRegression\n",
    "from sklearn import metrics\n",
    "from sklearn.metrics import mean_squared_error, r2_score , mean_absolute_error"
   ]
  },
  {
   "cell_type": "markdown",
   "id": "36ab43d5",
   "metadata": {},
   "source": [
    "### Importing data"
   ]
  },
  {
   "cell_type": "code",
   "execution_count": 193,
   "id": "0341d42d",
   "metadata": {},
   "outputs": [],
   "source": [
    "train=pd.read_csv(\"beg-hyp/weather_train.csv\")\n",
    "test=pd.read_csv(\"beg-hyp/weather_test.csv\")"
   ]
  },
  {
   "cell_type": "code",
   "execution_count": 194,
   "id": "1ea40f0c",
   "metadata": {},
   "outputs": [
    {
     "data": {
      "text/html": [
       "<div>\n",
       "<style scoped>\n",
       "    .dataframe tbody tr th:only-of-type {\n",
       "        vertical-align: middle;\n",
       "    }\n",
       "\n",
       "    .dataframe tbody tr th {\n",
       "        vertical-align: top;\n",
       "    }\n",
       "\n",
       "    .dataframe thead th {\n",
       "        text-align: right;\n",
       "    }\n",
       "</style>\n",
       "<table border=\"1\" class=\"dataframe\">\n",
       "  <thead>\n",
       "    <tr style=\"text-align: right;\">\n",
       "      <th></th>\n",
       "      <th>Unnamed: 0</th>\n",
       "      <th>DATE (YYYY/MM/DD)</th>\n",
       "      <th>MST</th>\n",
       "      <th>Global CMP22 (vent/cor) [W/m^2]</th>\n",
       "      <th>Direct sNIP [W/m^2]</th>\n",
       "      <th>Azimuth Angle [degrees]</th>\n",
       "      <th>Tower Dry Bulb Temp [deg C]</th>\n",
       "      <th>Tower Wet Bulb Temp [deg C]</th>\n",
       "      <th>Tower Dew Point Temp [deg C]</th>\n",
       "      <th>Tower RH [%]</th>\n",
       "      <th>Peak Wind Speed @ 6ft [m/s]</th>\n",
       "      <th>Avg Wind Direction @ 6ft [deg from N]</th>\n",
       "      <th>Station Pressure [mBar]</th>\n",
       "      <th>Precipitation (Accumulated) [mm]</th>\n",
       "      <th>Moisture</th>\n",
       "      <th>Albedo (CMP11)</th>\n",
       "      <th>Cloud Type</th>\n",
       "      <th>Solar Zenith Angle</th>\n",
       "      <th>Snow Depth [cm]</th>\n",
       "    </tr>\n",
       "  </thead>\n",
       "  <tbody>\n",
       "    <tr>\n",
       "      <th>0</th>\n",
       "      <td>0</td>\n",
       "      <td>2020/02/22</td>\n",
       "      <td>04:11</td>\n",
       "      <td>-1.12724</td>\n",
       "      <td>-0.365968</td>\n",
       "      <td>77.66760</td>\n",
       "      <td>8.21</td>\n",
       "      <td>0.388</td>\n",
       "      <td>-12.412</td>\n",
       "      <td>19.20</td>\n",
       "      <td>1.20</td>\n",
       "      <td>300.10</td>\n",
       "      <td>817.297</td>\n",
       "      <td>0.000</td>\n",
       "      <td>0.0</td>\n",
       "      <td>0.0000</td>\n",
       "      <td>0</td>\n",
       "      <td>50.16</td>\n",
       "      <td>9.460</td>\n",
       "    </tr>\n",
       "    <tr>\n",
       "      <th>1</th>\n",
       "      <td>1</td>\n",
       "      <td>2020/07/25</td>\n",
       "      <td>20:10</td>\n",
       "      <td>-1.04030</td>\n",
       "      <td>0.093816</td>\n",
       "      <td>304.73416</td>\n",
       "      <td>20.14</td>\n",
       "      <td>14.855</td>\n",
       "      <td>11.955</td>\n",
       "      <td>59.29</td>\n",
       "      <td>4.45</td>\n",
       "      <td>262.40</td>\n",
       "      <td>820.184</td>\n",
       "      <td>5.334</td>\n",
       "      <td>0.0</td>\n",
       "      <td>0.0000</td>\n",
       "      <td>7</td>\n",
       "      <td>57.39</td>\n",
       "      <td>1.121</td>\n",
       "    </tr>\n",
       "    <tr>\n",
       "      <th>2</th>\n",
       "      <td>2</td>\n",
       "      <td>2020/09/13</td>\n",
       "      <td>04:03</td>\n",
       "      <td>-1.29707</td>\n",
       "      <td>-0.251820</td>\n",
       "      <td>68.24852</td>\n",
       "      <td>14.08</td>\n",
       "      <td>6.560</td>\n",
       "      <td>-0.940</td>\n",
       "      <td>35.17</td>\n",
       "      <td>2.45</td>\n",
       "      <td>280.20</td>\n",
       "      <td>822.653</td>\n",
       "      <td>0.000</td>\n",
       "      <td>0.0</td>\n",
       "      <td>0.0000</td>\n",
       "      <td>8</td>\n",
       "      <td>65.63</td>\n",
       "      <td>-0.050</td>\n",
       "    </tr>\n",
       "    <tr>\n",
       "      <th>3</th>\n",
       "      <td>3</td>\n",
       "      <td>2020/03/08</td>\n",
       "      <td>15:25</td>\n",
       "      <td>79.20020</td>\n",
       "      <td>-0.014836</td>\n",
       "      <td>237.11811</td>\n",
       "      <td>15.03</td>\n",
       "      <td>5.725</td>\n",
       "      <td>-4.575</td>\n",
       "      <td>24.36</td>\n",
       "      <td>3.70</td>\n",
       "      <td>23.07</td>\n",
       "      <td>809.641</td>\n",
       "      <td>0.000</td>\n",
       "      <td>0.0</td>\n",
       "      <td>0.1587</td>\n",
       "      <td>6</td>\n",
       "      <td>57.08</td>\n",
       "      <td>0.734</td>\n",
       "    </tr>\n",
       "    <tr>\n",
       "      <th>4</th>\n",
       "      <td>4</td>\n",
       "      <td>2020/11/17</td>\n",
       "      <td>19:33</td>\n",
       "      <td>-1.61485</td>\n",
       "      <td>-0.459201</td>\n",
       "      <td>271.20406</td>\n",
       "      <td>12.66</td>\n",
       "      <td>3.180</td>\n",
       "      <td>-10.220</td>\n",
       "      <td>17.37</td>\n",
       "      <td>2.70</td>\n",
       "      <td>283.80</td>\n",
       "      <td>818.717</td>\n",
       "      <td>0.000</td>\n",
       "      <td>0.0</td>\n",
       "      <td>0.0000</td>\n",
       "      <td>0</td>\n",
       "      <td>128.59</td>\n",
       "      <td>0.013</td>\n",
       "    </tr>\n",
       "  </tbody>\n",
       "</table>\n",
       "</div>"
      ],
      "text/plain": [
       "   Unnamed: 0 DATE (YYYY/MM/DD)    MST  Global CMP22 (vent/cor) [W/m^2]  \\\n",
       "0           0        2020/02/22  04:11                         -1.12724   \n",
       "1           1        2020/07/25  20:10                         -1.04030   \n",
       "2           2        2020/09/13  04:03                         -1.29707   \n",
       "3           3        2020/03/08  15:25                         79.20020   \n",
       "4           4        2020/11/17  19:33                         -1.61485   \n",
       "\n",
       "   Direct sNIP [W/m^2]  Azimuth Angle [degrees]  Tower Dry Bulb Temp [deg C]  \\\n",
       "0            -0.365968                 77.66760                         8.21   \n",
       "1             0.093816                304.73416                        20.14   \n",
       "2            -0.251820                 68.24852                        14.08   \n",
       "3            -0.014836                237.11811                        15.03   \n",
       "4            -0.459201                271.20406                        12.66   \n",
       "\n",
       "   Tower Wet Bulb Temp [deg C]  Tower Dew Point Temp [deg C]  Tower RH [%]  \\\n",
       "0                        0.388                       -12.412         19.20   \n",
       "1                       14.855                        11.955         59.29   \n",
       "2                        6.560                        -0.940         35.17   \n",
       "3                        5.725                        -4.575         24.36   \n",
       "4                        3.180                       -10.220         17.37   \n",
       "\n",
       "   Peak Wind Speed @ 6ft [m/s]  Avg Wind Direction @ 6ft [deg from N]  \\\n",
       "0                         1.20                                 300.10   \n",
       "1                         4.45                                 262.40   \n",
       "2                         2.45                                 280.20   \n",
       "3                         3.70                                  23.07   \n",
       "4                         2.70                                 283.80   \n",
       "\n",
       "   Station Pressure [mBar]  Precipitation (Accumulated) [mm]  Moisture  \\\n",
       "0                  817.297                             0.000       0.0   \n",
       "1                  820.184                             5.334       0.0   \n",
       "2                  822.653                             0.000       0.0   \n",
       "3                  809.641                             0.000       0.0   \n",
       "4                  818.717                             0.000       0.0   \n",
       "\n",
       "   Albedo (CMP11)  Cloud Type  Solar Zenith Angle  Snow Depth [cm]  \n",
       "0          0.0000           0               50.16            9.460  \n",
       "1          0.0000           7               57.39            1.121  \n",
       "2          0.0000           8               65.63           -0.050  \n",
       "3          0.1587           6               57.08            0.734  \n",
       "4          0.0000           0              128.59            0.013  "
      ]
     },
     "execution_count": 194,
     "metadata": {},
     "output_type": "execute_result"
    }
   ],
   "source": [
    "train.head()"
   ]
  },
  {
   "cell_type": "markdown",
   "id": "6f3099e5",
   "metadata": {},
   "source": [
    "## data manipulation"
   ]
  },
  {
   "cell_type": "code",
   "execution_count": 195,
   "id": "ca424f5d",
   "metadata": {},
   "outputs": [],
   "source": [
    "train = train.rename(columns={\"DATE (YYYY/MM/DD)\":\"date\",\"Snow Depth [cm]\":\"depth\"})\n",
    "test = test.rename(columns={\"DATE (YYYY/MM/DD)\":\"date\",\"Snow Depth [cm]\":\"depth\"})"
   ]
  },
  {
   "cell_type": "code",
   "execution_count": 196,
   "id": "a72b2821",
   "metadata": {},
   "outputs": [],
   "source": [
    "train.date=pd.to_datetime(train.date)\n",
    "train['year']=train[\"date\"].dt.year\n",
    "train[\"month\"]=train[\"date\"].dt.month\n",
    "train[\"day\"]=train[\"date\"].dt.day\n",
    "train.drop(columns=[\"Unnamed: 0\",\"date\"],axis=1,inplace=True)\n",
    "train[['Hour', 'Minutes']] = train['MST'].str.split(':', expand=True)\n",
    "# display the dataframe\n"
   ]
  },
  {
   "cell_type": "code",
   "execution_count": 197,
   "id": "2be2384d",
   "metadata": {
    "scrolled": true
   },
   "outputs": [],
   "source": [
    "train.drop(columns=[\"MST\",\"Minutes\"],axis=1,inplace=True)\n",
    "train[\"depth\"] = train[\"depth\"]/100"
   ]
  },
  {
   "cell_type": "code",
   "execution_count": 198,
   "id": "95cfde71",
   "metadata": {},
   "outputs": [],
   "source": [
    "test.date=pd.to_datetime(test.date)\n",
    "test['year']=test[\"date\"].dt.year\n",
    "test[\"month\"]=test[\"date\"].dt.month\n",
    "test[\"day\"]=test[\"date\"].dt.day\n",
    "test.drop(columns=[\"Unnamed: 0\",\"date\"],axis=1,inplace=True)\n",
    "test[['Hour', 'Minutes']] = test['MST'].str.split(':', expand=True)"
   ]
  },
  {
   "cell_type": "code",
   "execution_count": 199,
   "id": "2bcdb1ba",
   "metadata": {},
   "outputs": [],
   "source": [
    "test.drop(columns=[\"MST\",\"Minutes\"],axis=1,inplace=True)"
   ]
  },
  {
   "cell_type": "code",
   "execution_count": 200,
   "id": "11348fd0",
   "metadata": {},
   "outputs": [
    {
     "data": {
      "text/html": [
       "<div>\n",
       "<style scoped>\n",
       "    .dataframe tbody tr th:only-of-type {\n",
       "        vertical-align: middle;\n",
       "    }\n",
       "\n",
       "    .dataframe tbody tr th {\n",
       "        vertical-align: top;\n",
       "    }\n",
       "\n",
       "    .dataframe thead th {\n",
       "        text-align: right;\n",
       "    }\n",
       "</style>\n",
       "<table border=\"1\" class=\"dataframe\">\n",
       "  <thead>\n",
       "    <tr style=\"text-align: right;\">\n",
       "      <th></th>\n",
       "      <th>Global CMP22 (vent/cor) [W/m^2]</th>\n",
       "      <th>Direct sNIP [W/m^2]</th>\n",
       "      <th>Azimuth Angle [degrees]</th>\n",
       "      <th>Tower Dry Bulb Temp [deg C]</th>\n",
       "      <th>Tower Wet Bulb Temp [deg C]</th>\n",
       "      <th>Tower Dew Point Temp [deg C]</th>\n",
       "      <th>Tower RH [%]</th>\n",
       "      <th>Peak Wind Speed @ 6ft [m/s]</th>\n",
       "      <th>Avg Wind Direction @ 6ft [deg from N]</th>\n",
       "      <th>Station Pressure [mBar]</th>\n",
       "      <th>Precipitation (Accumulated) [mm]</th>\n",
       "      <th>Moisture</th>\n",
       "      <th>Albedo (CMP11)</th>\n",
       "      <th>Cloud Type</th>\n",
       "      <th>Solar Zenith Angle</th>\n",
       "      <th>depth</th>\n",
       "      <th>year</th>\n",
       "      <th>month</th>\n",
       "      <th>day</th>\n",
       "      <th>Hour</th>\n",
       "    </tr>\n",
       "  </thead>\n",
       "  <tbody>\n",
       "    <tr>\n",
       "      <th>0</th>\n",
       "      <td>-1.12724</td>\n",
       "      <td>-0.365968</td>\n",
       "      <td>77.66760</td>\n",
       "      <td>8.21</td>\n",
       "      <td>0.388</td>\n",
       "      <td>-12.412</td>\n",
       "      <td>19.20</td>\n",
       "      <td>1.20</td>\n",
       "      <td>300.10</td>\n",
       "      <td>817.297</td>\n",
       "      <td>0.000</td>\n",
       "      <td>0.0</td>\n",
       "      <td>0.0000</td>\n",
       "      <td>0</td>\n",
       "      <td>50.16</td>\n",
       "      <td>0.09460</td>\n",
       "      <td>2020</td>\n",
       "      <td>2</td>\n",
       "      <td>22</td>\n",
       "      <td>04</td>\n",
       "    </tr>\n",
       "    <tr>\n",
       "      <th>1</th>\n",
       "      <td>-1.04030</td>\n",
       "      <td>0.093816</td>\n",
       "      <td>304.73416</td>\n",
       "      <td>20.14</td>\n",
       "      <td>14.855</td>\n",
       "      <td>11.955</td>\n",
       "      <td>59.29</td>\n",
       "      <td>4.45</td>\n",
       "      <td>262.40</td>\n",
       "      <td>820.184</td>\n",
       "      <td>5.334</td>\n",
       "      <td>0.0</td>\n",
       "      <td>0.0000</td>\n",
       "      <td>7</td>\n",
       "      <td>57.39</td>\n",
       "      <td>0.01121</td>\n",
       "      <td>2020</td>\n",
       "      <td>7</td>\n",
       "      <td>25</td>\n",
       "      <td>20</td>\n",
       "    </tr>\n",
       "    <tr>\n",
       "      <th>2</th>\n",
       "      <td>-1.29707</td>\n",
       "      <td>-0.251820</td>\n",
       "      <td>68.24852</td>\n",
       "      <td>14.08</td>\n",
       "      <td>6.560</td>\n",
       "      <td>-0.940</td>\n",
       "      <td>35.17</td>\n",
       "      <td>2.45</td>\n",
       "      <td>280.20</td>\n",
       "      <td>822.653</td>\n",
       "      <td>0.000</td>\n",
       "      <td>0.0</td>\n",
       "      <td>0.0000</td>\n",
       "      <td>8</td>\n",
       "      <td>65.63</td>\n",
       "      <td>-0.00050</td>\n",
       "      <td>2020</td>\n",
       "      <td>9</td>\n",
       "      <td>13</td>\n",
       "      <td>04</td>\n",
       "    </tr>\n",
       "    <tr>\n",
       "      <th>3</th>\n",
       "      <td>79.20020</td>\n",
       "      <td>-0.014836</td>\n",
       "      <td>237.11811</td>\n",
       "      <td>15.03</td>\n",
       "      <td>5.725</td>\n",
       "      <td>-4.575</td>\n",
       "      <td>24.36</td>\n",
       "      <td>3.70</td>\n",
       "      <td>23.07</td>\n",
       "      <td>809.641</td>\n",
       "      <td>0.000</td>\n",
       "      <td>0.0</td>\n",
       "      <td>0.1587</td>\n",
       "      <td>6</td>\n",
       "      <td>57.08</td>\n",
       "      <td>0.00734</td>\n",
       "      <td>2020</td>\n",
       "      <td>3</td>\n",
       "      <td>8</td>\n",
       "      <td>15</td>\n",
       "    </tr>\n",
       "    <tr>\n",
       "      <th>4</th>\n",
       "      <td>-1.61485</td>\n",
       "      <td>-0.459201</td>\n",
       "      <td>271.20406</td>\n",
       "      <td>12.66</td>\n",
       "      <td>3.180</td>\n",
       "      <td>-10.220</td>\n",
       "      <td>17.37</td>\n",
       "      <td>2.70</td>\n",
       "      <td>283.80</td>\n",
       "      <td>818.717</td>\n",
       "      <td>0.000</td>\n",
       "      <td>0.0</td>\n",
       "      <td>0.0000</td>\n",
       "      <td>0</td>\n",
       "      <td>128.59</td>\n",
       "      <td>0.00013</td>\n",
       "      <td>2020</td>\n",
       "      <td>11</td>\n",
       "      <td>17</td>\n",
       "      <td>19</td>\n",
       "    </tr>\n",
       "  </tbody>\n",
       "</table>\n",
       "</div>"
      ],
      "text/plain": [
       "   Global CMP22 (vent/cor) [W/m^2]  Direct sNIP [W/m^2]  \\\n",
       "0                         -1.12724            -0.365968   \n",
       "1                         -1.04030             0.093816   \n",
       "2                         -1.29707            -0.251820   \n",
       "3                         79.20020            -0.014836   \n",
       "4                         -1.61485            -0.459201   \n",
       "\n",
       "   Azimuth Angle [degrees]  Tower Dry Bulb Temp [deg C]  \\\n",
       "0                 77.66760                         8.21   \n",
       "1                304.73416                        20.14   \n",
       "2                 68.24852                        14.08   \n",
       "3                237.11811                        15.03   \n",
       "4                271.20406                        12.66   \n",
       "\n",
       "   Tower Wet Bulb Temp [deg C]  Tower Dew Point Temp [deg C]  Tower RH [%]  \\\n",
       "0                        0.388                       -12.412         19.20   \n",
       "1                       14.855                        11.955         59.29   \n",
       "2                        6.560                        -0.940         35.17   \n",
       "3                        5.725                        -4.575         24.36   \n",
       "4                        3.180                       -10.220         17.37   \n",
       "\n",
       "   Peak Wind Speed @ 6ft [m/s]  Avg Wind Direction @ 6ft [deg from N]  \\\n",
       "0                         1.20                                 300.10   \n",
       "1                         4.45                                 262.40   \n",
       "2                         2.45                                 280.20   \n",
       "3                         3.70                                  23.07   \n",
       "4                         2.70                                 283.80   \n",
       "\n",
       "   Station Pressure [mBar]  Precipitation (Accumulated) [mm]  Moisture  \\\n",
       "0                  817.297                             0.000       0.0   \n",
       "1                  820.184                             5.334       0.0   \n",
       "2                  822.653                             0.000       0.0   \n",
       "3                  809.641                             0.000       0.0   \n",
       "4                  818.717                             0.000       0.0   \n",
       "\n",
       "   Albedo (CMP11)  Cloud Type  Solar Zenith Angle    depth  year  month  day  \\\n",
       "0          0.0000           0               50.16  0.09460  2020      2   22   \n",
       "1          0.0000           7               57.39  0.01121  2020      7   25   \n",
       "2          0.0000           8               65.63 -0.00050  2020      9   13   \n",
       "3          0.1587           6               57.08  0.00734  2020      3    8   \n",
       "4          0.0000           0              128.59  0.00013  2020     11   17   \n",
       "\n",
       "  Hour  \n",
       "0   04  \n",
       "1   20  \n",
       "2   04  \n",
       "3   15  \n",
       "4   19  "
      ]
     },
     "execution_count": 200,
     "metadata": {},
     "output_type": "execute_result"
    }
   ],
   "source": [
    "train.head()"
   ]
  },
  {
   "cell_type": "code",
   "execution_count": 201,
   "id": "b8e6647f",
   "metadata": {},
   "outputs": [
    {
     "data": {
      "text/html": [
       "<div>\n",
       "<style scoped>\n",
       "    .dataframe tbody tr th:only-of-type {\n",
       "        vertical-align: middle;\n",
       "    }\n",
       "\n",
       "    .dataframe tbody tr th {\n",
       "        vertical-align: top;\n",
       "    }\n",
       "\n",
       "    .dataframe thead th {\n",
       "        text-align: right;\n",
       "    }\n",
       "</style>\n",
       "<table border=\"1\" class=\"dataframe\">\n",
       "  <thead>\n",
       "    <tr style=\"text-align: right;\">\n",
       "      <th></th>\n",
       "      <th>Global CMP22 (vent/cor) [W/m^2]</th>\n",
       "      <th>Direct sNIP [W/m^2]</th>\n",
       "      <th>Azimuth Angle [degrees]</th>\n",
       "      <th>Tower Dry Bulb Temp [deg C]</th>\n",
       "      <th>Tower Wet Bulb Temp [deg C]</th>\n",
       "      <th>Tower Dew Point Temp [deg C]</th>\n",
       "      <th>Tower RH [%]</th>\n",
       "      <th>Peak Wind Speed @ 6ft [m/s]</th>\n",
       "      <th>Avg Wind Direction @ 6ft [deg from N]</th>\n",
       "      <th>Station Pressure [mBar]</th>\n",
       "      <th>Precipitation (Accumulated) [mm]</th>\n",
       "      <th>Moisture</th>\n",
       "      <th>Albedo (CMP11)</th>\n",
       "      <th>Cloud Type</th>\n",
       "      <th>Solar Zenith Angle</th>\n",
       "      <th>year</th>\n",
       "      <th>month</th>\n",
       "      <th>day</th>\n",
       "      <th>Hour</th>\n",
       "    </tr>\n",
       "  </thead>\n",
       "  <tbody>\n",
       "    <tr>\n",
       "      <th>0</th>\n",
       "      <td>-0.821587</td>\n",
       "      <td>-0.197822</td>\n",
       "      <td>270.39668</td>\n",
       "      <td>0.344</td>\n",
       "      <td>-3.269</td>\n",
       "      <td>-9.469</td>\n",
       "      <td>43.43</td>\n",
       "      <td>1.95</td>\n",
       "      <td>300.70</td>\n",
       "      <td>817.643</td>\n",
       "      <td>0.0</td>\n",
       "      <td>0.0</td>\n",
       "      <td>0.0000</td>\n",
       "      <td>7</td>\n",
       "      <td>163.53</td>\n",
       "      <td>2020</td>\n",
       "      <td>1</td>\n",
       "      <td>23</td>\n",
       "      <td>19</td>\n",
       "    </tr>\n",
       "    <tr>\n",
       "      <th>1</th>\n",
       "      <td>-0.464099</td>\n",
       "      <td>0.039564</td>\n",
       "      <td>83.18453</td>\n",
       "      <td>-15.420</td>\n",
       "      <td>-16.249</td>\n",
       "      <td>-19.649</td>\n",
       "      <td>67.07</td>\n",
       "      <td>1.20</td>\n",
       "      <td>308.30</td>\n",
       "      <td>809.469</td>\n",
       "      <td>0.0</td>\n",
       "      <td>0.0</td>\n",
       "      <td>0.0000</td>\n",
       "      <td>0</td>\n",
       "      <td>84.09</td>\n",
       "      <td>2020</td>\n",
       "      <td>5</td>\n",
       "      <td>2</td>\n",
       "      <td>04</td>\n",
       "    </tr>\n",
       "    <tr>\n",
       "      <th>2</th>\n",
       "      <td>-1.133330</td>\n",
       "      <td>-0.009875</td>\n",
       "      <td>35.33772</td>\n",
       "      <td>22.380</td>\n",
       "      <td>11.522</td>\n",
       "      <td>3.122</td>\n",
       "      <td>28.25</td>\n",
       "      <td>1.70</td>\n",
       "      <td>214.00</td>\n",
       "      <td>813.392</td>\n",
       "      <td>0.0</td>\n",
       "      <td>0.0</td>\n",
       "      <td>0.0000</td>\n",
       "      <td>7</td>\n",
       "      <td>109.24</td>\n",
       "      <td>2020</td>\n",
       "      <td>6</td>\n",
       "      <td>6</td>\n",
       "      <td>02</td>\n",
       "    </tr>\n",
       "    <tr>\n",
       "      <th>3</th>\n",
       "      <td>849.620000</td>\n",
       "      <td>946.128000</td>\n",
       "      <td>244.34737</td>\n",
       "      <td>14.240</td>\n",
       "      <td>6.585</td>\n",
       "      <td>-1.215</td>\n",
       "      <td>34.02</td>\n",
       "      <td>3.45</td>\n",
       "      <td>45.53</td>\n",
       "      <td>821.467</td>\n",
       "      <td>0.0</td>\n",
       "      <td>0.0</td>\n",
       "      <td>0.1844</td>\n",
       "      <td>7</td>\n",
       "      <td>156.80</td>\n",
       "      <td>2020</td>\n",
       "      <td>10</td>\n",
       "      <td>5</td>\n",
       "      <td>14</td>\n",
       "    </tr>\n",
       "    <tr>\n",
       "      <th>4</th>\n",
       "      <td>44.193400</td>\n",
       "      <td>0.488831</td>\n",
       "      <td>230.89280</td>\n",
       "      <td>-5.580</td>\n",
       "      <td>-6.169</td>\n",
       "      <td>-7.269</td>\n",
       "      <td>86.40</td>\n",
       "      <td>1.20</td>\n",
       "      <td>15.69</td>\n",
       "      <td>812.324</td>\n",
       "      <td>0.0</td>\n",
       "      <td>1.0</td>\n",
       "      <td>0.6648</td>\n",
       "      <td>7</td>\n",
       "      <td>154.89</td>\n",
       "      <td>2020</td>\n",
       "      <td>11</td>\n",
       "      <td>12</td>\n",
       "      <td>15</td>\n",
       "    </tr>\n",
       "  </tbody>\n",
       "</table>\n",
       "</div>"
      ],
      "text/plain": [
       "   Global CMP22 (vent/cor) [W/m^2]  Direct sNIP [W/m^2]  \\\n",
       "0                        -0.821587            -0.197822   \n",
       "1                        -0.464099             0.039564   \n",
       "2                        -1.133330            -0.009875   \n",
       "3                       849.620000           946.128000   \n",
       "4                        44.193400             0.488831   \n",
       "\n",
       "   Azimuth Angle [degrees]  Tower Dry Bulb Temp [deg C]  \\\n",
       "0                270.39668                        0.344   \n",
       "1                 83.18453                      -15.420   \n",
       "2                 35.33772                       22.380   \n",
       "3                244.34737                       14.240   \n",
       "4                230.89280                       -5.580   \n",
       "\n",
       "   Tower Wet Bulb Temp [deg C]  Tower Dew Point Temp [deg C]  Tower RH [%]  \\\n",
       "0                       -3.269                        -9.469         43.43   \n",
       "1                      -16.249                       -19.649         67.07   \n",
       "2                       11.522                         3.122         28.25   \n",
       "3                        6.585                        -1.215         34.02   \n",
       "4                       -6.169                        -7.269         86.40   \n",
       "\n",
       "   Peak Wind Speed @ 6ft [m/s]  Avg Wind Direction @ 6ft [deg from N]  \\\n",
       "0                         1.95                                 300.70   \n",
       "1                         1.20                                 308.30   \n",
       "2                         1.70                                 214.00   \n",
       "3                         3.45                                  45.53   \n",
       "4                         1.20                                  15.69   \n",
       "\n",
       "   Station Pressure [mBar]  Precipitation (Accumulated) [mm]  Moisture  \\\n",
       "0                  817.643                               0.0       0.0   \n",
       "1                  809.469                               0.0       0.0   \n",
       "2                  813.392                               0.0       0.0   \n",
       "3                  821.467                               0.0       0.0   \n",
       "4                  812.324                               0.0       1.0   \n",
       "\n",
       "   Albedo (CMP11)  Cloud Type  Solar Zenith Angle  year  month  day Hour  \n",
       "0          0.0000           7              163.53  2020      1   23   19  \n",
       "1          0.0000           0               84.09  2020      5    2   04  \n",
       "2          0.0000           7              109.24  2020      6    6   02  \n",
       "3          0.1844           7              156.80  2020     10    5   14  \n",
       "4          0.6648           7              154.89  2020     11   12   15  "
      ]
     },
     "execution_count": 201,
     "metadata": {},
     "output_type": "execute_result"
    }
   ],
   "source": [
    "test.head()"
   ]
  },
  {
   "cell_type": "markdown",
   "id": "12965339",
   "metadata": {},
   "source": [
    "## visualization"
   ]
  },
  {
   "cell_type": "code",
   "execution_count": 202,
   "id": "7ef5728c",
   "metadata": {
    "scrolled": false
   },
   "outputs": [
    {
     "data": {
      "text/html": [
       "<div>\n",
       "<style scoped>\n",
       "    .dataframe tbody tr th:only-of-type {\n",
       "        vertical-align: middle;\n",
       "    }\n",
       "\n",
       "    .dataframe tbody tr th {\n",
       "        vertical-align: top;\n",
       "    }\n",
       "\n",
       "    .dataframe thead th {\n",
       "        text-align: right;\n",
       "    }\n",
       "</style>\n",
       "<table border=\"1\" class=\"dataframe\">\n",
       "  <thead>\n",
       "    <tr style=\"text-align: right;\">\n",
       "      <th></th>\n",
       "      <th>Global CMP22 (vent/cor) [W/m^2]</th>\n",
       "      <th>Direct sNIP [W/m^2]</th>\n",
       "      <th>Azimuth Angle [degrees]</th>\n",
       "      <th>Tower Dry Bulb Temp [deg C]</th>\n",
       "      <th>Tower Wet Bulb Temp [deg C]</th>\n",
       "      <th>Tower Dew Point Temp [deg C]</th>\n",
       "      <th>Tower RH [%]</th>\n",
       "      <th>Peak Wind Speed @ 6ft [m/s]</th>\n",
       "      <th>Avg Wind Direction @ 6ft [deg from N]</th>\n",
       "      <th>Station Pressure [mBar]</th>\n",
       "      <th>Precipitation (Accumulated) [mm]</th>\n",
       "      <th>Moisture</th>\n",
       "      <th>Albedo (CMP11)</th>\n",
       "      <th>Cloud Type</th>\n",
       "      <th>Solar Zenith Angle</th>\n",
       "      <th>depth</th>\n",
       "      <th>year</th>\n",
       "      <th>month</th>\n",
       "      <th>day</th>\n",
       "      <th>Hour</th>\n",
       "    </tr>\n",
       "  </thead>\n",
       "  <tbody>\n",
       "    <tr>\n",
       "      <th>0</th>\n",
       "      <td>-1.12724</td>\n",
       "      <td>-0.365968</td>\n",
       "      <td>77.66760</td>\n",
       "      <td>8.21</td>\n",
       "      <td>0.388</td>\n",
       "      <td>-12.412</td>\n",
       "      <td>19.20</td>\n",
       "      <td>1.20</td>\n",
       "      <td>300.10</td>\n",
       "      <td>817.297</td>\n",
       "      <td>0.000</td>\n",
       "      <td>0.0</td>\n",
       "      <td>0.0000</td>\n",
       "      <td>0</td>\n",
       "      <td>50.16</td>\n",
       "      <td>0.09460</td>\n",
       "      <td>2020</td>\n",
       "      <td>2</td>\n",
       "      <td>22</td>\n",
       "      <td>04</td>\n",
       "    </tr>\n",
       "    <tr>\n",
       "      <th>1</th>\n",
       "      <td>-1.04030</td>\n",
       "      <td>0.093816</td>\n",
       "      <td>304.73416</td>\n",
       "      <td>20.14</td>\n",
       "      <td>14.855</td>\n",
       "      <td>11.955</td>\n",
       "      <td>59.29</td>\n",
       "      <td>4.45</td>\n",
       "      <td>262.40</td>\n",
       "      <td>820.184</td>\n",
       "      <td>5.334</td>\n",
       "      <td>0.0</td>\n",
       "      <td>0.0000</td>\n",
       "      <td>7</td>\n",
       "      <td>57.39</td>\n",
       "      <td>0.01121</td>\n",
       "      <td>2020</td>\n",
       "      <td>7</td>\n",
       "      <td>25</td>\n",
       "      <td>20</td>\n",
       "    </tr>\n",
       "    <tr>\n",
       "      <th>2</th>\n",
       "      <td>-1.29707</td>\n",
       "      <td>-0.251820</td>\n",
       "      <td>68.24852</td>\n",
       "      <td>14.08</td>\n",
       "      <td>6.560</td>\n",
       "      <td>-0.940</td>\n",
       "      <td>35.17</td>\n",
       "      <td>2.45</td>\n",
       "      <td>280.20</td>\n",
       "      <td>822.653</td>\n",
       "      <td>0.000</td>\n",
       "      <td>0.0</td>\n",
       "      <td>0.0000</td>\n",
       "      <td>8</td>\n",
       "      <td>65.63</td>\n",
       "      <td>-0.00050</td>\n",
       "      <td>2020</td>\n",
       "      <td>9</td>\n",
       "      <td>13</td>\n",
       "      <td>04</td>\n",
       "    </tr>\n",
       "    <tr>\n",
       "      <th>3</th>\n",
       "      <td>79.20020</td>\n",
       "      <td>-0.014836</td>\n",
       "      <td>237.11811</td>\n",
       "      <td>15.03</td>\n",
       "      <td>5.725</td>\n",
       "      <td>-4.575</td>\n",
       "      <td>24.36</td>\n",
       "      <td>3.70</td>\n",
       "      <td>23.07</td>\n",
       "      <td>809.641</td>\n",
       "      <td>0.000</td>\n",
       "      <td>0.0</td>\n",
       "      <td>0.1587</td>\n",
       "      <td>6</td>\n",
       "      <td>57.08</td>\n",
       "      <td>0.00734</td>\n",
       "      <td>2020</td>\n",
       "      <td>3</td>\n",
       "      <td>8</td>\n",
       "      <td>15</td>\n",
       "    </tr>\n",
       "    <tr>\n",
       "      <th>4</th>\n",
       "      <td>-1.61485</td>\n",
       "      <td>-0.459201</td>\n",
       "      <td>271.20406</td>\n",
       "      <td>12.66</td>\n",
       "      <td>3.180</td>\n",
       "      <td>-10.220</td>\n",
       "      <td>17.37</td>\n",
       "      <td>2.70</td>\n",
       "      <td>283.80</td>\n",
       "      <td>818.717</td>\n",
       "      <td>0.000</td>\n",
       "      <td>0.0</td>\n",
       "      <td>0.0000</td>\n",
       "      <td>0</td>\n",
       "      <td>128.59</td>\n",
       "      <td>0.00013</td>\n",
       "      <td>2020</td>\n",
       "      <td>11</td>\n",
       "      <td>17</td>\n",
       "      <td>19</td>\n",
       "    </tr>\n",
       "  </tbody>\n",
       "</table>\n",
       "</div>"
      ],
      "text/plain": [
       "   Global CMP22 (vent/cor) [W/m^2]  Direct sNIP [W/m^2]  \\\n",
       "0                         -1.12724            -0.365968   \n",
       "1                         -1.04030             0.093816   \n",
       "2                         -1.29707            -0.251820   \n",
       "3                         79.20020            -0.014836   \n",
       "4                         -1.61485            -0.459201   \n",
       "\n",
       "   Azimuth Angle [degrees]  Tower Dry Bulb Temp [deg C]  \\\n",
       "0                 77.66760                         8.21   \n",
       "1                304.73416                        20.14   \n",
       "2                 68.24852                        14.08   \n",
       "3                237.11811                        15.03   \n",
       "4                271.20406                        12.66   \n",
       "\n",
       "   Tower Wet Bulb Temp [deg C]  Tower Dew Point Temp [deg C]  Tower RH [%]  \\\n",
       "0                        0.388                       -12.412         19.20   \n",
       "1                       14.855                        11.955         59.29   \n",
       "2                        6.560                        -0.940         35.17   \n",
       "3                        5.725                        -4.575         24.36   \n",
       "4                        3.180                       -10.220         17.37   \n",
       "\n",
       "   Peak Wind Speed @ 6ft [m/s]  Avg Wind Direction @ 6ft [deg from N]  \\\n",
       "0                         1.20                                 300.10   \n",
       "1                         4.45                                 262.40   \n",
       "2                         2.45                                 280.20   \n",
       "3                         3.70                                  23.07   \n",
       "4                         2.70                                 283.80   \n",
       "\n",
       "   Station Pressure [mBar]  Precipitation (Accumulated) [mm]  Moisture  \\\n",
       "0                  817.297                             0.000       0.0   \n",
       "1                  820.184                             5.334       0.0   \n",
       "2                  822.653                             0.000       0.0   \n",
       "3                  809.641                             0.000       0.0   \n",
       "4                  818.717                             0.000       0.0   \n",
       "\n",
       "   Albedo (CMP11)  Cloud Type  Solar Zenith Angle    depth  year  month  day  \\\n",
       "0          0.0000           0               50.16  0.09460  2020      2   22   \n",
       "1          0.0000           7               57.39  0.01121  2020      7   25   \n",
       "2          0.0000           8               65.63 -0.00050  2020      9   13   \n",
       "3          0.1587           6               57.08  0.00734  2020      3    8   \n",
       "4          0.0000           0              128.59  0.00013  2020     11   17   \n",
       "\n",
       "  Hour  \n",
       "0   04  \n",
       "1   20  \n",
       "2   04  \n",
       "3   15  \n",
       "4   19  "
      ]
     },
     "execution_count": 202,
     "metadata": {},
     "output_type": "execute_result"
    }
   ],
   "source": [
    "train.head()"
   ]
  },
  {
   "cell_type": "code",
   "execution_count": 203,
   "id": "706f8874",
   "metadata": {},
   "outputs": [
    {
     "data": {
      "text/html": [
       "<div>\n",
       "<style scoped>\n",
       "    .dataframe tbody tr th:only-of-type {\n",
       "        vertical-align: middle;\n",
       "    }\n",
       "\n",
       "    .dataframe tbody tr th {\n",
       "        vertical-align: top;\n",
       "    }\n",
       "\n",
       "    .dataframe thead th {\n",
       "        text-align: right;\n",
       "    }\n",
       "</style>\n",
       "<table border=\"1\" class=\"dataframe\">\n",
       "  <thead>\n",
       "    <tr style=\"text-align: right;\">\n",
       "      <th></th>\n",
       "      <th>Global CMP22 (vent/cor) [W/m^2]</th>\n",
       "      <th>Direct sNIP [W/m^2]</th>\n",
       "      <th>Azimuth Angle [degrees]</th>\n",
       "      <th>Tower Dry Bulb Temp [deg C]</th>\n",
       "      <th>Tower Wet Bulb Temp [deg C]</th>\n",
       "      <th>Tower Dew Point Temp [deg C]</th>\n",
       "      <th>Tower RH [%]</th>\n",
       "      <th>Peak Wind Speed @ 6ft [m/s]</th>\n",
       "      <th>Avg Wind Direction @ 6ft [deg from N]</th>\n",
       "      <th>Station Pressure [mBar]</th>\n",
       "      <th>Precipitation (Accumulated) [mm]</th>\n",
       "      <th>Moisture</th>\n",
       "      <th>Albedo (CMP11)</th>\n",
       "      <th>Cloud Type</th>\n",
       "      <th>Solar Zenith Angle</th>\n",
       "      <th>year</th>\n",
       "      <th>month</th>\n",
       "      <th>day</th>\n",
       "      <th>Hour</th>\n",
       "    </tr>\n",
       "  </thead>\n",
       "  <tbody>\n",
       "    <tr>\n",
       "      <th>0</th>\n",
       "      <td>-0.821587</td>\n",
       "      <td>-0.197822</td>\n",
       "      <td>270.39668</td>\n",
       "      <td>0.344</td>\n",
       "      <td>-3.269</td>\n",
       "      <td>-9.469</td>\n",
       "      <td>43.43</td>\n",
       "      <td>1.95</td>\n",
       "      <td>300.70</td>\n",
       "      <td>817.643</td>\n",
       "      <td>0.0</td>\n",
       "      <td>0.0</td>\n",
       "      <td>0.0000</td>\n",
       "      <td>7</td>\n",
       "      <td>163.53</td>\n",
       "      <td>2020</td>\n",
       "      <td>1</td>\n",
       "      <td>23</td>\n",
       "      <td>19</td>\n",
       "    </tr>\n",
       "    <tr>\n",
       "      <th>1</th>\n",
       "      <td>-0.464099</td>\n",
       "      <td>0.039564</td>\n",
       "      <td>83.18453</td>\n",
       "      <td>-15.420</td>\n",
       "      <td>-16.249</td>\n",
       "      <td>-19.649</td>\n",
       "      <td>67.07</td>\n",
       "      <td>1.20</td>\n",
       "      <td>308.30</td>\n",
       "      <td>809.469</td>\n",
       "      <td>0.0</td>\n",
       "      <td>0.0</td>\n",
       "      <td>0.0000</td>\n",
       "      <td>0</td>\n",
       "      <td>84.09</td>\n",
       "      <td>2020</td>\n",
       "      <td>5</td>\n",
       "      <td>2</td>\n",
       "      <td>04</td>\n",
       "    </tr>\n",
       "    <tr>\n",
       "      <th>2</th>\n",
       "      <td>-1.133330</td>\n",
       "      <td>-0.009875</td>\n",
       "      <td>35.33772</td>\n",
       "      <td>22.380</td>\n",
       "      <td>11.522</td>\n",
       "      <td>3.122</td>\n",
       "      <td>28.25</td>\n",
       "      <td>1.70</td>\n",
       "      <td>214.00</td>\n",
       "      <td>813.392</td>\n",
       "      <td>0.0</td>\n",
       "      <td>0.0</td>\n",
       "      <td>0.0000</td>\n",
       "      <td>7</td>\n",
       "      <td>109.24</td>\n",
       "      <td>2020</td>\n",
       "      <td>6</td>\n",
       "      <td>6</td>\n",
       "      <td>02</td>\n",
       "    </tr>\n",
       "    <tr>\n",
       "      <th>3</th>\n",
       "      <td>849.620000</td>\n",
       "      <td>946.128000</td>\n",
       "      <td>244.34737</td>\n",
       "      <td>14.240</td>\n",
       "      <td>6.585</td>\n",
       "      <td>-1.215</td>\n",
       "      <td>34.02</td>\n",
       "      <td>3.45</td>\n",
       "      <td>45.53</td>\n",
       "      <td>821.467</td>\n",
       "      <td>0.0</td>\n",
       "      <td>0.0</td>\n",
       "      <td>0.1844</td>\n",
       "      <td>7</td>\n",
       "      <td>156.80</td>\n",
       "      <td>2020</td>\n",
       "      <td>10</td>\n",
       "      <td>5</td>\n",
       "      <td>14</td>\n",
       "    </tr>\n",
       "    <tr>\n",
       "      <th>4</th>\n",
       "      <td>44.193400</td>\n",
       "      <td>0.488831</td>\n",
       "      <td>230.89280</td>\n",
       "      <td>-5.580</td>\n",
       "      <td>-6.169</td>\n",
       "      <td>-7.269</td>\n",
       "      <td>86.40</td>\n",
       "      <td>1.20</td>\n",
       "      <td>15.69</td>\n",
       "      <td>812.324</td>\n",
       "      <td>0.0</td>\n",
       "      <td>1.0</td>\n",
       "      <td>0.6648</td>\n",
       "      <td>7</td>\n",
       "      <td>154.89</td>\n",
       "      <td>2020</td>\n",
       "      <td>11</td>\n",
       "      <td>12</td>\n",
       "      <td>15</td>\n",
       "    </tr>\n",
       "  </tbody>\n",
       "</table>\n",
       "</div>"
      ],
      "text/plain": [
       "   Global CMP22 (vent/cor) [W/m^2]  Direct sNIP [W/m^2]  \\\n",
       "0                        -0.821587            -0.197822   \n",
       "1                        -0.464099             0.039564   \n",
       "2                        -1.133330            -0.009875   \n",
       "3                       849.620000           946.128000   \n",
       "4                        44.193400             0.488831   \n",
       "\n",
       "   Azimuth Angle [degrees]  Tower Dry Bulb Temp [deg C]  \\\n",
       "0                270.39668                        0.344   \n",
       "1                 83.18453                      -15.420   \n",
       "2                 35.33772                       22.380   \n",
       "3                244.34737                       14.240   \n",
       "4                230.89280                       -5.580   \n",
       "\n",
       "   Tower Wet Bulb Temp [deg C]  Tower Dew Point Temp [deg C]  Tower RH [%]  \\\n",
       "0                       -3.269                        -9.469         43.43   \n",
       "1                      -16.249                       -19.649         67.07   \n",
       "2                       11.522                         3.122         28.25   \n",
       "3                        6.585                        -1.215         34.02   \n",
       "4                       -6.169                        -7.269         86.40   \n",
       "\n",
       "   Peak Wind Speed @ 6ft [m/s]  Avg Wind Direction @ 6ft [deg from N]  \\\n",
       "0                         1.95                                 300.70   \n",
       "1                         1.20                                 308.30   \n",
       "2                         1.70                                 214.00   \n",
       "3                         3.45                                  45.53   \n",
       "4                         1.20                                  15.69   \n",
       "\n",
       "   Station Pressure [mBar]  Precipitation (Accumulated) [mm]  Moisture  \\\n",
       "0                  817.643                               0.0       0.0   \n",
       "1                  809.469                               0.0       0.0   \n",
       "2                  813.392                               0.0       0.0   \n",
       "3                  821.467                               0.0       0.0   \n",
       "4                  812.324                               0.0       1.0   \n",
       "\n",
       "   Albedo (CMP11)  Cloud Type  Solar Zenith Angle  year  month  day Hour  \n",
       "0          0.0000           7              163.53  2020      1   23   19  \n",
       "1          0.0000           0               84.09  2020      5    2   04  \n",
       "2          0.0000           7              109.24  2020      6    6   02  \n",
       "3          0.1844           7              156.80  2020     10    5   14  \n",
       "4          0.6648           7              154.89  2020     11   12   15  "
      ]
     },
     "execution_count": 203,
     "metadata": {},
     "output_type": "execute_result"
    }
   ],
   "source": [
    "test.head()"
   ]
  },
  {
   "cell_type": "code",
   "execution_count": 204,
   "id": "23ec434a",
   "metadata": {
    "scrolled": false
   },
   "outputs": [
    {
     "name": "stdout",
     "output_type": "stream",
     "text": [
      "<class 'pandas.core.frame.DataFrame'>\n",
      "RangeIndex: 15000 entries, 0 to 14999\n",
      "Data columns (total 20 columns):\n",
      " #   Column                                 Non-Null Count  Dtype  \n",
      "---  ------                                 --------------  -----  \n",
      " 0   Global CMP22 (vent/cor) [W/m^2]        15000 non-null  float64\n",
      " 1   Direct sNIP [W/m^2]                    15000 non-null  float64\n",
      " 2   Azimuth Angle [degrees]                15000 non-null  float64\n",
      " 3   Tower Dry Bulb Temp [deg C]            15000 non-null  float64\n",
      " 4   Tower Wet Bulb Temp [deg C]            15000 non-null  float64\n",
      " 5   Tower Dew Point Temp [deg C]           15000 non-null  float64\n",
      " 6   Tower RH [%]                           15000 non-null  float64\n",
      " 7   Peak Wind Speed @ 6ft [m/s]            15000 non-null  float64\n",
      " 8   Avg Wind Direction @ 6ft [deg from N]  15000 non-null  float64\n",
      " 9   Station Pressure [mBar]                15000 non-null  float64\n",
      " 10  Precipitation (Accumulated) [mm]       15000 non-null  float64\n",
      " 11  Moisture                               15000 non-null  float64\n",
      " 12  Albedo (CMP11)                         15000 non-null  float64\n",
      " 13  Cloud Type                             15000 non-null  int64  \n",
      " 14  Solar Zenith Angle                     15000 non-null  float64\n",
      " 15  depth                                  15000 non-null  float64\n",
      " 16  year                                   15000 non-null  int64  \n",
      " 17  month                                  15000 non-null  int64  \n",
      " 18  day                                    15000 non-null  int64  \n",
      " 19  Hour                                   15000 non-null  object \n",
      "dtypes: float64(15), int64(4), object(1)\n",
      "memory usage: 2.3+ MB\n"
     ]
    }
   ],
   "source": [
    "train.info()"
   ]
  },
  {
   "cell_type": "markdown",
   "id": "11356ca3",
   "metadata": {},
   "source": [
    "### Feature scaling"
   ]
  },
  {
   "cell_type": "code",
   "execution_count": 205,
   "id": "df356a38",
   "metadata": {},
   "outputs": [],
   "source": [
    "features=[\"Global CMP22 (vent/cor) [W/m^2]\",\"Direct sNIP [W/m^2]\",\"Azimuth Angle [degrees]\",\"Tower Dry Bulb Temp [deg C]\",\"Tower Wet Bulb Temp [deg C]\",\"Tower Dew Point Temp [deg C]\",\"Tower RH [%]\",\"Peak Wind Speed @ 6ft [m/s]\",\"Avg Wind Direction @ 6ft [deg from N]\",\"Station Pressure [mBar]\",\"Precipitation (Accumulated) [mm]\",\"Moisture\",\"Albedo (CMP11)\",\"Cloud Type\",\"Solar Zenith Angle\",\"year\",\"month\",\"day\",\"Hour\"]\n",
    "target=[\"depth\"]"
   ]
  },
  {
   "cell_type": "code",
   "execution_count": 207,
   "id": "bc18fc34",
   "metadata": {},
   "outputs": [],
   "source": [
    "X = train[features]\n",
    "y = train[target]"
   ]
  },
  {
   "cell_type": "code",
   "execution_count": 208,
   "id": "919910c9",
   "metadata": {},
   "outputs": [],
   "source": [
    "scalar = preprocessing.StandardScaler().fit(X)\n",
    "x =  scalar.transform(X)               #  feature scaling "
   ]
  },
  {
   "cell_type": "code",
   "execution_count": 209,
   "id": "307adb57",
   "metadata": {},
   "outputs": [
    {
     "data": {
      "text/plain": [
       "array([[-0.68784071, -0.648703  , -1.02316414, ..., -1.30934485,\n",
       "         0.70854112, -1.09293486],\n",
       "       [-0.68754143, -0.64745343,  1.23349252, ...,  0.14376056,\n",
       "         1.0498532 ,  1.22387313],\n",
       "       [-0.68842534, -0.64839278, -1.11677383, ...,  0.72500273,\n",
       "        -0.31539512, -1.09293486],\n",
       "       ...,\n",
       "       [ 0.30193024,  1.72473089, -0.39402533, ...,  1.59686597,\n",
       "         1.73247736, -0.36893237],\n",
       "       [-0.68873994, -0.64753395, -1.72916948, ..., -0.14686052,\n",
       "        -1.11178997, -1.67213686],\n",
       "       [ 0.81480715,  1.43281513,  0.73671095, ...,  0.72500273,\n",
       "        -1.33933135,  0.49987063]])"
      ]
     },
     "execution_count": 209,
     "metadata": {},
     "output_type": "execute_result"
    }
   ],
   "source": [
    "x"
   ]
  },
  {
   "cell_type": "code",
   "execution_count": 234,
   "id": "d31731b8",
   "metadata": {},
   "outputs": [
    {
     "name": "stdout",
     "output_type": "stream",
     "text": [
      "[-0.68784071 -0.648703   -1.02316414 -0.35323447 -0.62308407 -1.27914199\n",
      " -0.87889739 -0.78914956  1.13125833  0.07676455 -0.19701102 -0.26302475\n",
      " -0.71772948 -0.83533362 -0.97908117  0.         -1.30934485  0.70854112\n",
      " -1.09293486]\n"
     ]
    }
   ],
   "source": [
    "print(x[0])"
   ]
  },
  {
   "cell_type": "markdown",
   "id": "d3d22e7c",
   "metadata": {},
   "source": [
    "## model making"
   ]
  },
  {
   "cell_type": "code",
   "execution_count": 212,
   "id": "e6ac0793",
   "metadata": {},
   "outputs": [],
   "source": [
    "x = np.asanyarray(x)   \n",
    "y = np.asanyarray(y)     #numpy array"
   ]
  },
  {
   "cell_type": "code",
   "execution_count": 213,
   "id": "c9cd70d0",
   "metadata": {},
   "outputs": [],
   "source": [
    "x_train , x_test , y_train , y_test = train_test_split(x, y, test_size = 0.20, random_state= 4 )"
   ]
  },
  {
   "cell_type": "code",
   "execution_count": 214,
   "id": "886b007a",
   "metadata": {},
   "outputs": [
    {
     "data": {
      "text/plain": [
       "12000"
      ]
     },
     "execution_count": 214,
     "metadata": {},
     "output_type": "execute_result"
    }
   ],
   "source": [
    "len(x_train)"
   ]
  },
  {
   "cell_type": "code",
   "execution_count": 215,
   "id": "0885e73e",
   "metadata": {},
   "outputs": [],
   "source": [
    "model = LinearRegression()"
   ]
  },
  {
   "cell_type": "code",
   "execution_count": 216,
   "id": "149616f4",
   "metadata": {},
   "outputs": [
    {
     "data": {
      "text/html": [
       "<style>#sk-container-id-2 {color: black;background-color: white;}#sk-container-id-2 pre{padding: 0;}#sk-container-id-2 div.sk-toggleable {background-color: white;}#sk-container-id-2 label.sk-toggleable__label {cursor: pointer;display: block;width: 100%;margin-bottom: 0;padding: 0.3em;box-sizing: border-box;text-align: center;}#sk-container-id-2 label.sk-toggleable__label-arrow:before {content: \"▸\";float: left;margin-right: 0.25em;color: #696969;}#sk-container-id-2 label.sk-toggleable__label-arrow:hover:before {color: black;}#sk-container-id-2 div.sk-estimator:hover label.sk-toggleable__label-arrow:before {color: black;}#sk-container-id-2 div.sk-toggleable__content {max-height: 0;max-width: 0;overflow: hidden;text-align: left;background-color: #f0f8ff;}#sk-container-id-2 div.sk-toggleable__content pre {margin: 0.2em;color: black;border-radius: 0.25em;background-color: #f0f8ff;}#sk-container-id-2 input.sk-toggleable__control:checked~div.sk-toggleable__content {max-height: 200px;max-width: 100%;overflow: auto;}#sk-container-id-2 input.sk-toggleable__control:checked~label.sk-toggleable__label-arrow:before {content: \"▾\";}#sk-container-id-2 div.sk-estimator input.sk-toggleable__control:checked~label.sk-toggleable__label {background-color: #d4ebff;}#sk-container-id-2 div.sk-label input.sk-toggleable__control:checked~label.sk-toggleable__label {background-color: #d4ebff;}#sk-container-id-2 input.sk-hidden--visually {border: 0;clip: rect(1px 1px 1px 1px);clip: rect(1px, 1px, 1px, 1px);height: 1px;margin: -1px;overflow: hidden;padding: 0;position: absolute;width: 1px;}#sk-container-id-2 div.sk-estimator {font-family: monospace;background-color: #f0f8ff;border: 1px dotted black;border-radius: 0.25em;box-sizing: border-box;margin-bottom: 0.5em;}#sk-container-id-2 div.sk-estimator:hover {background-color: #d4ebff;}#sk-container-id-2 div.sk-parallel-item::after {content: \"\";width: 100%;border-bottom: 1px solid gray;flex-grow: 1;}#sk-container-id-2 div.sk-label:hover label.sk-toggleable__label {background-color: #d4ebff;}#sk-container-id-2 div.sk-serial::before {content: \"\";position: absolute;border-left: 1px solid gray;box-sizing: border-box;top: 0;bottom: 0;left: 50%;z-index: 0;}#sk-container-id-2 div.sk-serial {display: flex;flex-direction: column;align-items: center;background-color: white;padding-right: 0.2em;padding-left: 0.2em;position: relative;}#sk-container-id-2 div.sk-item {position: relative;z-index: 1;}#sk-container-id-2 div.sk-parallel {display: flex;align-items: stretch;justify-content: center;background-color: white;position: relative;}#sk-container-id-2 div.sk-item::before, #sk-container-id-2 div.sk-parallel-item::before {content: \"\";position: absolute;border-left: 1px solid gray;box-sizing: border-box;top: 0;bottom: 0;left: 50%;z-index: -1;}#sk-container-id-2 div.sk-parallel-item {display: flex;flex-direction: column;z-index: 1;position: relative;background-color: white;}#sk-container-id-2 div.sk-parallel-item:first-child::after {align-self: flex-end;width: 50%;}#sk-container-id-2 div.sk-parallel-item:last-child::after {align-self: flex-start;width: 50%;}#sk-container-id-2 div.sk-parallel-item:only-child::after {width: 0;}#sk-container-id-2 div.sk-dashed-wrapped {border: 1px dashed gray;margin: 0 0.4em 0.5em 0.4em;box-sizing: border-box;padding-bottom: 0.4em;background-color: white;}#sk-container-id-2 div.sk-label label {font-family: monospace;font-weight: bold;display: inline-block;line-height: 1.2em;}#sk-container-id-2 div.sk-label-container {text-align: center;}#sk-container-id-2 div.sk-container {/* jupyter's `normalize.less` sets `[hidden] { display: none; }` but bootstrap.min.css set `[hidden] { display: none !important; }` so we also need the `!important` here to be able to override the default hidden behavior on the sphinx rendered scikit-learn.org. See: https://github.com/scikit-learn/scikit-learn/issues/21755 */display: inline-block !important;position: relative;}#sk-container-id-2 div.sk-text-repr-fallback {display: none;}</style><div id=\"sk-container-id-2\" class=\"sk-top-container\"><div class=\"sk-text-repr-fallback\"><pre>LinearRegression()</pre><b>In a Jupyter environment, please rerun this cell to show the HTML representation or trust the notebook. <br />On GitHub, the HTML representation is unable to render, please try loading this page with nbviewer.org.</b></div><div class=\"sk-container\" hidden><div class=\"sk-item\"><div class=\"sk-estimator sk-toggleable\"><input class=\"sk-toggleable__control sk-hidden--visually\" id=\"sk-estimator-id-2\" type=\"checkbox\" checked><label for=\"sk-estimator-id-2\" class=\"sk-toggleable__label sk-toggleable__label-arrow\">LinearRegression</label><div class=\"sk-toggleable__content\"><pre>LinearRegression()</pre></div></div></div></div></div>"
      ],
      "text/plain": [
       "LinearRegression()"
      ]
     },
     "execution_count": 216,
     "metadata": {},
     "output_type": "execute_result"
    }
   ],
   "source": [
    "model.fit(x_train,y_train)"
   ]
  },
  {
   "cell_type": "code",
   "execution_count": 217,
   "id": "8752fdb9",
   "metadata": {},
   "outputs": [
    {
     "name": "stdout",
     "output_type": "stream",
     "text": [
      "Coffiencient :  [[-3.14616951e-02  3.03141766e-02  9.84105868e-02  8.78040889e-02\n",
      "  -9.51858343e-02  2.56130166e-02 -4.52333784e-03 -1.89997962e-02\n",
      "   3.52385102e-02  6.83461870e-05 -1.64246104e-01 -5.63486921e-02\n",
      "   6.88800490e-02 -1.33865121e-02 -1.51403377e-02 -5.55111512e-17\n",
      "  -3.38561327e-02  1.34319262e-02 -2.06347114e-02]]\n"
     ]
    }
   ],
   "source": [
    "print('Coffiencient : ' , model.coef_)"
   ]
  },
  {
   "cell_type": "markdown",
   "id": "6d0ef4bb",
   "metadata": {},
   "source": [
    "## prediction"
   ]
  },
  {
   "cell_type": "code",
   "execution_count": 218,
   "id": "9c0b3ec0",
   "metadata": {},
   "outputs": [],
   "source": [
    "test_pred=  model.predict(x_test)"
   ]
  },
  {
   "cell_type": "code",
   "execution_count": 219,
   "id": "92fb697e",
   "metadata": {},
   "outputs": [
    {
     "data": {
      "text/plain": [
       "array([[-0.16303769],\n",
       "       [-0.07928688],\n",
       "       [ 0.08637021],\n",
       "       ...,\n",
       "       [ 0.27419842],\n",
       "       [-0.12522264],\n",
       "       [ 0.12706492]])"
      ]
     },
     "execution_count": 219,
     "metadata": {},
     "output_type": "execute_result"
    }
   ],
   "source": [
    "test_pred"
   ]
  },
  {
   "cell_type": "code",
   "execution_count": 220,
   "id": "14786928",
   "metadata": {},
   "outputs": [
    {
     "name": "stdout",
     "output_type": "stream",
     "text": [
      "residual sum of squares : 8.42\n"
     ]
    }
   ],
   "source": [
    "print(\"residual sum of squares : %.2f\" % np.mean((test_pred - y_test) ** 2))"
   ]
  },
  {
   "cell_type": "code",
   "execution_count": 221,
   "id": "23ce24e1",
   "metadata": {},
   "outputs": [
    {
     "name": "stdout",
     "output_type": "stream",
     "text": [
      "Variance score: 0.01\n"
     ]
    }
   ],
   "source": [
    "print('Variance score: %.2f' % model.score(x, y))"
   ]
  },
  {
   "cell_type": "markdown",
   "id": "0a12394f",
   "metadata": {},
   "source": [
    "### Test prediction"
   ]
  },
  {
   "cell_type": "code",
   "execution_count": 222,
   "id": "a9a88749",
   "metadata": {},
   "outputs": [],
   "source": [
    "# feature scaling\n",
    "scalar = preprocessing.StandardScaler().fit(test)\n",
    "test =  scalar.transform(test)"
   ]
  },
  {
   "cell_type": "code",
   "execution_count": 223,
   "id": "f5ee4c6f",
   "metadata": {},
   "outputs": [
    {
     "data": {
      "text/plain": [
       "array([[-0.71378751, -0.66751449,  0.91881239, ..., -1.47577524,\n",
       "         0.82897473,  1.12491671],\n",
       "       [-0.71260561, -0.66688834, -0.99972505, ..., -0.33333147,\n",
       "        -1.48203703, -1.11832807],\n",
       "       [-0.71481817, -0.66701875, -1.49005591, ..., -0.04772053,\n",
       "        -1.04184432, -1.41742738],\n",
       "       ...,\n",
       "       [-0.71423555, -0.66737097, -1.8323224 , ...,  0.80911229,\n",
       "        -1.26194067, -1.71652668],\n",
       "       [ 0.95147513,  1.91328711, -0.05937724, ...,  1.66594512,\n",
       "         0.05863748, -0.07148051],\n",
       "       [ 1.49594387,  0.06724351,  0.48086085, ..., -0.33333147,\n",
       "         1.04907109,  0.2276188 ]])"
      ]
     },
     "execution_count": 223,
     "metadata": {},
     "output_type": "execute_result"
    }
   ],
   "source": [
    "test"
   ]
  },
  {
   "cell_type": "code",
   "execution_count": 224,
   "id": "a8a08a86",
   "metadata": {},
   "outputs": [],
   "source": [
    "test = np.asanyarray(test)"
   ]
  },
  {
   "cell_type": "code",
   "execution_count": 225,
   "id": "45ef4dc9",
   "metadata": {},
   "outputs": [],
   "source": [
    "result  =  model.predict(test)"
   ]
  },
  {
   "cell_type": "code",
   "execution_count": 226,
   "id": "e0d84157",
   "metadata": {},
   "outputs": [
    {
     "data": {
      "text/plain": [
       "array([[ 0.07624339],\n",
       "       [-0.06124157],\n",
       "       [-0.15887898],\n",
       "       ...,\n",
       "       [-0.29847451],\n",
       "       [ 0.12828114],\n",
       "       [ 0.05753357]])"
      ]
     },
     "execution_count": 226,
     "metadata": {},
     "output_type": "execute_result"
    }
   ],
   "source": [
    "result"
   ]
  },
  {
   "cell_type": "code",
   "execution_count": 227,
   "id": "f037e0a7",
   "metadata": {},
   "outputs": [],
   "source": [
    "output = pd.DataFrame(result)\n",
    "output = output.rename(columns={0:\"Snow Depth [cm]\"})"
   ]
  },
  {
   "cell_type": "code",
   "execution_count": 228,
   "id": "75d73637",
   "metadata": {},
   "outputs": [],
   "source": [
    "output.index.names = ['Id']"
   ]
  },
  {
   "cell_type": "code",
   "execution_count": 233,
   "id": "34209ab1",
   "metadata": {},
   "outputs": [],
   "source": [
    "output.to_csv('submission.csv')"
   ]
  },
  {
   "cell_type": "markdown",
   "id": "d0b0b9e4",
   "metadata": {},
   "source": [
    "## Accuracy"
   ]
  },
  {
   "cell_type": "code",
   "execution_count": 230,
   "id": "fedc5de6",
   "metadata": {},
   "outputs": [
    {
     "name": "stdout",
     "output_type": "stream",
     "text": [
      "Mean_squared_error : 8.42\n"
     ]
    }
   ],
   "source": [
    "# mse\n",
    "print(\"Mean_squared_error : %.2f\" % (mean_squared_error(y_test , test_pred)))"
   ]
  },
  {
   "cell_type": "code",
   "execution_count": 231,
   "id": "d89009c8",
   "metadata": {},
   "outputs": [
    {
     "name": "stdout",
     "output_type": "stream",
     "text": [
      "Mean_absolute_error : 0.23\n"
     ]
    }
   ],
   "source": [
    "# mean absolute error\n",
    "print(\"Mean_absolute_error : %.2f\" % (mean_absolute_error(y_test , test_pred)))"
   ]
  },
  {
   "cell_type": "code",
   "execution_count": 232,
   "id": "fd52964e",
   "metadata": {},
   "outputs": [
    {
     "name": "stdout",
     "output_type": "stream",
     "text": [
      "R^2 test: 0.013\n"
     ]
    }
   ],
   "source": [
    "# r squared error \n",
    "print('R^2 test: %.3f' % (r2_score(y_test , test_pred)))"
   ]
  },
  {
   "cell_type": "code",
   "execution_count": null,
   "id": "1dfb6c7c",
   "metadata": {},
   "outputs": [],
   "source": []
  }
 ],
 "metadata": {
  "kernelspec": {
   "display_name": "Python 3 (ipykernel)",
   "language": "python",
   "name": "python3"
  },
  "language_info": {
   "codemirror_mode": {
    "name": "ipython",
    "version": 3
   },
   "file_extension": ".py",
   "mimetype": "text/x-python",
   "name": "python",
   "nbconvert_exporter": "python",
   "pygments_lexer": "ipython3",
   "version": "3.10.4"
  }
 },
 "nbformat": 4,
 "nbformat_minor": 5
}
